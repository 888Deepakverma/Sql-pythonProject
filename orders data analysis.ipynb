{
 "cells": [
  {
   "cell_type": "code",
   "execution_count": 6,
   "id": "815acac5",
   "metadata": {},
   "outputs": [
    {
     "name": "stdout",
     "output_type": "stream",
     "text": [
      "Dataset URL: https://www.kaggle.com/datasets/ankitbansal06/retail-orders\n",
      "License(s): CC0-1.0\n",
      "orders.csv.zip: Skipping, found more recently modified local copy (use --force to force download)\n"
     ]
    }
   ],
   "source": [
    "#import libraries \n",
    "#!pip install kaggle\n",
    "import kaggle\n",
    "!kaggle datasets download ankitbansal06/retail-orders -f orders.csv "
   ]
  },
  {
   "cell_type": "code",
   "execution_count": null,
   "id": "5aba5c4e",
   "metadata": {},
   "outputs": [],
   "source": [
    "#download dataset using kaggle api\n",
    "!kaggle datasets download ankitbansal06/retail-orders -f orders.csv "
   ]
  },
  {
   "cell_type": "code",
   "execution_count": 10,
   "id": "c11a8291",
   "metadata": {},
   "outputs": [],
   "source": [
    "#extract file from zip file \n",
    "#import zipfile\n",
    "#zip_ref = zipfile.zipfile('orders.csv.zip')\n",
    "#zip_ref.extractall() #extract file to directory\n",
    "#zip_ref.close() #close file\n"
   ]
  },
  {
   "cell_type": "code",
   "execution_count": 12,
   "id": "795e5cae",
   "metadata": {},
   "outputs": [
    {
     "data": {
      "text/plain": [
       "array(['Second Class', 'Standard Class', nan, 'First Class', 'Same Day'],\n",
       "      dtype=object)"
      ]
     },
     "execution_count": 12,
     "metadata": {},
     "output_type": "execute_result"
    }
   ],
   "source": [
    "#read data from the file and handle null values \n",
    "import pandas as pd \n",
    "df = pd.read_csv('C:\\\\Users\\\\Lenovo\\\\SQL+Python\\\\orders.csv',na_values=['Not Available','unknown'])\n",
    "df['Ship Mode'].unique()"
   ]
  },
  {
   "cell_type": "code",
   "execution_count": 13,
   "id": "850fede6",
   "metadata": {},
   "outputs": [],
   "source": [
    "#rename columns names ..make then lower case and replace sape with underscore \n",
    "df.rename(columns={'Order Id':'order_id','City':'city'})\n",
    "df.columns = df.columns.str.lower() \n",
    "df.columns = df.columns.str.replace(' ','_')\n",
    "df.head(5)"
   ]
  },
  {
   "cell_type": "code",
   "execution_count": 14,
   "id": "7e71711a",
   "metadata": {},
   "outputs": [],
   "source": [
    "#derive new columns disount, sale price and profit \n",
    "df['disount'] = df['list_price']*df['discount_percent']*0.01\n",
    "df['sale_price'] = df['list_price'] - df['disount']\n",
    "df['profit'] = df['sale_price'] - df['cost_price']\n",
    "df"
   ]
  },
  {
   "cell_type": "code",
   "execution_count": 15,
   "id": "f6295e08",
   "metadata": {},
   "outputs": [],
   "source": [
    "#convert order date from object data type to datetime\n",
    "#df.dtypes\n",
    "df['order_date'] = pd.to_datetime(df['order_date'],format=\"%Y-%m-%d\")\n"
   ]
  },
  {
   "cell_type": "code",
   "execution_count": 16,
   "id": "fd6bc9d7",
   "metadata": {},
   "outputs": [],
   "source": [
    "#drop cost price list price and discount percent columns\n",
    "df.drop(columns=['list_price','cost_price','discount_percent'],inplace=True)"
   ]
  },
  {
   "cell_type": "code",
   "execution_count": 17,
   "id": "7dbb71a5",
   "metadata": {},
   "outputs": [],
   "source": [
    "#load the data into sql server using replace option \n",
    "import sqlalchemy as sal\n",
    "engine = sal.create_engine('mssql://DESKTOP-1KDJ7K5/master?driver=ODBC+DRIVER+17+FOR+SQL+SERVER')\n",
    "conn=engine.connect()"
   ]
  },
  {
   "cell_type": "code",
   "execution_count": 23,
   "id": "f4477902",
   "metadata": {},
   "outputs": [
    {
     "data": {
      "text/plain": [
       "38"
      ]
     },
     "execution_count": 23,
     "metadata": {},
     "output_type": "execute_result"
    }
   ],
   "source": [
    "#load the data into sql server using append option \n",
    "df.to_sql('df_orders',con=conn,index=False,if_exists='append')"
   ]
  },
  {
   "cell_type": "code",
   "execution_count": 19,
   "id": "9fa350bf",
   "metadata": {},
   "outputs": [
    {
     "data": {
      "text/plain": [
       "Index(['order_id', 'order_date', 'ship_mode', 'segment', 'country', 'city',\n",
       "       'state', 'postal_code', 'region', 'category', 'sub_category',\n",
       "       'product_id', 'quantity', 'disount', 'sale_price', 'profit'],\n",
       "      dtype='object')"
      ]
     },
     "execution_count": 19,
     "metadata": {},
     "output_type": "execute_result"
    }
   ],
   "source": [
    "df.columns"
   ]
  },
  {
   "cell_type": "code",
   "execution_count": null,
   "id": "3bbf38b1",
   "metadata": {},
   "outputs": [],
   "source": []
  }
 ],
 "metadata": {
  "kernelspec": {
   "display_name": "Python 3 (ipykernel)",
   "language": "python",
   "name": "python3"
  },
  "language_info": {
   "codemirror_mode": {
    "name": "ipython",
    "version": 3
   },
   "file_extension": ".py",
   "mimetype": "text/x-python",
   "name": "python",
   "nbconvert_exporter": "python",
   "pygments_lexer": "ipython3",
   "version": "3.11.7"
  }
 },
 "nbformat": 4,
 "nbformat_minor": 5
}
